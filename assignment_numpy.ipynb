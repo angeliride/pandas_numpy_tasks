{
  "cells": [
    {
      "cell_type": "markdown",
      "id": "d3df79dd",
      "metadata": {
        "id": "d3df79dd"
      },
      "source": [
        "## Упражнения по библиотеке Numpy"
      ]
    },
    {
      "cell_type": "code",
      "execution_count": 2,
      "id": "76b9c43b",
      "metadata": {
        "id": "76b9c43b"
      },
      "outputs": [],
      "source": [
        "import numpy as np"
      ]
    },
    {
      "cell_type": "markdown",
      "id": "03727b7c",
      "metadata": {
        "id": "03727b7c"
      },
      "source": [
        "**1.** Дан случайный массив, поменять знак у элементов, значения которых между 3 и 8"
      ]
    },
    {
      "cell_type": "code",
      "execution_count": 3,
      "id": "b89a7523",
      "metadata": {
        "id": "b89a7523",
        "outputId": "c3980884-a8df-4c89-dad0-3420dc17cb41",
        "colab": {
          "base_uri": "https://localhost:8080/"
        }
      },
      "outputs": [
        {
          "output_type": "stream",
          "name": "stdout",
          "text": [
            "Original array:  [7 4 3 3 7 5 1 0 8 1]\n",
            "Modified array:  [-7 -4 -3 -3 -7 -5  1  0 -8  1]\n"
          ]
        }
      ],
      "source": [
        "arr = np.random.randint(0, 10, size=10)\n",
        "print(\"Original array: \", arr)\n",
        "\n",
        "mask = (arr >= 3) & (arr <= 8)\n",
        "arr[mask] *= -1\n",
        "print(\"Modified array: \", arr)"
      ]
    },
    {
      "cell_type": "markdown",
      "id": "5fa4abda",
      "metadata": {
        "id": "5fa4abda"
      },
      "source": [
        "**2.** Заменить максимальный элемент случайного массива на 0"
      ]
    },
    {
      "cell_type": "code",
      "execution_count": 4,
      "id": "f2788a6e",
      "metadata": {
        "id": "f2788a6e",
        "outputId": "e084d3cf-9d82-418e-f58e-b8df938f117f",
        "colab": {
          "base_uri": "https://localhost:8080/"
        }
      },
      "outputs": [
        {
          "output_type": "stream",
          "name": "stdout",
          "text": [
            "Original array:  [4 1 7 6 8 7 9 2 2 0]\n",
            "Modified array:  [4 1 7 6 8 7 0 2 2 0]\n"
          ]
        }
      ],
      "source": [
        "arr = np.random.randint(0, 10, size=10)\n",
        "print(\"Original array: \", arr)\n",
        "\n",
        "arr[arr.argmax()] = 0\n",
        "print(\"Modified array: \", arr)"
      ]
    },
    {
      "cell_type": "markdown",
      "id": "3cac656b",
      "metadata": {
        "id": "3cac656b"
      },
      "source": [
        "**3.** Построить прямое произведение массивов (все комбинации с каждым элементом). На вход подается двумерный массив"
      ]
    },
    {
      "cell_type": "code",
      "execution_count": 5,
      "id": "3396b764",
      "metadata": {
        "id": "3396b764",
        "outputId": "13635cfe-1e26-4e8a-e971-eff019defee7",
        "colab": {
          "base_uri": "https://localhost:8080/"
        }
      },
      "outputs": [
        {
          "output_type": "stream",
          "name": "stdout",
          "text": [
            "[[1 2]\n",
            " [1 4]\n",
            " [3 2]\n",
            " [3 4]]\n"
          ]
        }
      ],
      "source": [
        "from itertools import product\n",
        "arr = np.array([[1, 2], [3, 4]])\n",
        "combinations = np.array(list(product(*arr.T)))\n",
        "print(combinations)"
      ]
    },
    {
      "cell_type": "markdown",
      "id": "674c9354",
      "metadata": {
        "id": "674c9354"
      },
      "source": [
        "**4.** Даны 2 массива A (8x3) и B (2x2). Найти строки в A, которые содержат элементы из каждой строки в B, независимо от порядка элементов в B"
      ]
    },
    {
      "cell_type": "code",
      "execution_count": 4,
      "id": "cb664782",
      "metadata": {
        "id": "cb664782",
        "outputId": "5e9a5be0-8687-4386-bb23-5f8778088b74",
        "colab": {
          "base_uri": "https://localhost:8080/"
        }
      },
      "outputs": [
        {
          "output_type": "stream",
          "name": "stdout",
          "text": [
            "[[7 8 9]\n",
            " [6 9 2]\n",
            " [9 9 7]\n",
            " [7 4 0]\n",
            " [8 2 9]\n",
            " [9 6 4]\n",
            " [5 9 5]\n",
            " [4 3 8]]\n",
            "[[7 2]\n",
            " [7 9]]\n",
            "[0 1 2 3 4]\n"
          ]
        }
      ],
      "source": [
        "A = np.random.randint(0, 10, (8, 3))\n",
        "B = np.random.randint(0, 10, (2, 2))\n",
        "print(A)\n",
        "print(B)\n",
        "C = (A[..., np.newaxis, np.newaxis] == B)\n",
        "rows = (C.sum(axis=(1,2,3)) >= B.shape[1]).nonzero()[0]\n",
        "print(rows)"
      ]
    },
    {
      "cell_type": "markdown",
      "id": "fa46533b",
      "metadata": {
        "id": "fa46533b"
      },
      "source": [
        "**5.** Дана 10x3 матрица, найти строки из неравных значений (например строка [2,2,3] остается, строка [3,3,3] удаляется)"
      ]
    },
    {
      "cell_type": "code",
      "execution_count": 3,
      "id": "fa545b23",
      "metadata": {
        "id": "fa545b23",
        "outputId": "da81a521-4b96-44bb-8b90-3568fa4504c8",
        "colab": {
          "base_uri": "https://localhost:8080/"
        }
      },
      "outputs": [
        {
          "output_type": "stream",
          "name": "stdout",
          "text": [
            "[[0 1 1]\n",
            " [0 1 0]\n",
            " [0 1 1]\n",
            " [1 1 1]\n",
            " [0 0 0]\n",
            " [1 1 1]\n",
            " [0 1 1]\n",
            " [1 1 0]\n",
            " [1 1 0]\n",
            " [0 0 0]]\n",
            "[[0 1 1]\n",
            " [0 1 0]\n",
            " [0 1 1]\n",
            " [0 1 1]\n",
            " [1 1 0]\n",
            " [1 1 0]]\n"
          ]
        }
      ],
      "source": [
        "A = np.random.randint(0,2,(10,3))\n",
        "print(A)\n",
        "B = np.logical_and.reduce(A[:, :-1] == A[:, 1:],axis=1)\n",
        "C  = A[~B]\n",
        "print(C)"
      ]
    },
    {
      "cell_type": "markdown",
      "id": "28f0d116",
      "metadata": {
        "id": "28f0d116"
      },
      "source": [
        "**6.** Дан двумерный массив. Удалить те строки, которые повторяются"
      ]
    },
    {
      "cell_type": "code",
      "execution_count": 6,
      "id": "83d2c0b7",
      "metadata": {
        "id": "83d2c0b7",
        "outputId": "e63e0287-fdc1-413e-a6ba-abc87b5f2181",
        "colab": {
          "base_uri": "https://localhost:8080/"
        }
      },
      "outputs": [
        {
          "output_type": "stream",
          "name": "stdout",
          "text": [
            "[[2 1 2]\n",
            " [0 2 2]\n",
            " [2 1 1]\n",
            " [0 2 2]]\n",
            "[[0 2 2]\n",
            " [2 1 1]\n",
            " [2 1 2]]\n"
          ]
        }
      ],
      "source": [
        "arr = np.random.randint(0, 3, (4, 3))\n",
        "print(arr)\n",
        "unique = np.unique(arr, axis=0)\n",
        "print(unique)"
      ]
    },
    {
      "cell_type": "markdown",
      "id": "6daa9e37",
      "metadata": {
        "id": "6daa9e37"
      },
      "source": [
        "______\n",
        "______"
      ]
    },
    {
      "cell_type": "markdown",
      "id": "cfbfcaff",
      "metadata": {
        "id": "cfbfcaff"
      },
      "source": [
        "Для каждой из следующих задач (1-5) нужно привести 2 реализации – одна без использования numpy (cчитайте, что там, где на входе или выходе должны быть numpy array, будут просто списки), а вторая полностью векторизованная с использованием numpy (без использования питоновских циклов/map/list comprehension).\n",
        "\n",
        "\n",
        "__Замечание 1.__ Можно считать, что все указанные объекты непустые (к примеру, в __задаче 1__ на диагонали матрицы есть ненулевые элементы).\n",
        "\n",
        "__Замечание 2.__ Для большинства задач решение занимает не больше 1-2 строк."
      ]
    },
    {
      "cell_type": "markdown",
      "id": "673cac7f",
      "metadata": {
        "id": "673cac7f"
      },
      "source": [
        "___"
      ]
    },
    {
      "cell_type": "markdown",
      "id": "ca6f585e",
      "metadata": {
        "id": "ca6f585e"
      },
      "source": [
        "* __Задача 1__: Подсчитать произведение ненулевых элементов на диагонали прямоугольной матрицы.  \n",
        " Например, для X = np.array([[1, 0, 1], [2, 0, 2], [3, 0, 3], [4, 4, 4]]) ответ 3."
      ]
    },
    {
      "cell_type": "code",
      "execution_count": 7,
      "id": "065862fc",
      "metadata": {
        "id": "065862fc",
        "outputId": "fe370dd1-a570-425b-8e05-4cf4827cde46",
        "colab": {
          "base_uri": "https://localhost:8080/"
        }
      },
      "outputs": [
        {
          "output_type": "stream",
          "name": "stdout",
          "text": [
            "Without NumPy: 3, time: 0.000110 s\n",
            "With NumPy: 3, time: 0.000224 s\n"
          ]
        }
      ],
      "source": [
        "import time\n",
        "X = np.array([[1, 0, 1],\n",
        "              [2, 0, 2],\n",
        "              [3, 0, 3],\n",
        "              [4, 4, 4]])\n",
        "\n",
        "def diag_product_without_numpy(m):\n",
        "  product = 1\n",
        "  for i in range(min(len(m), len(m[0]))):\n",
        "    el = m[i][i]\n",
        "    if el != 0:\n",
        "      product *= el\n",
        "  return product\n",
        "\n",
        "def diag_product_with_numpy(m):\n",
        "  diag = np.diagonal(m)\n",
        "  return np.prod(diag[diag != 0])\n",
        "\n",
        "start = time.time()\n",
        "res1 = diag_product_without_numpy(X)\n",
        "end = time.time()\n",
        "print(f\"Without NumPy: {res1}, time: {end - start:.6f} s\")\n",
        "\n",
        "start = time.time()\n",
        "res2 = diag_product_with_numpy(X)\n",
        "end = time.time()\n",
        "print(f\"With NumPy: {res2}, time: {end - start:.6f} s\")"
      ]
    },
    {
      "cell_type": "markdown",
      "id": "9fc51d41",
      "metadata": {
        "id": "9fc51d41"
      },
      "source": [
        "* __Задача 2__: Даны два вектора x и y. Проверить, задают ли они одно и то же мультимножество.  \n",
        "  Например, для x = np.array([1, 2, 2, 4]), y = np.array([4, 2, 1, 2]) ответ True."
      ]
    },
    {
      "cell_type": "code",
      "execution_count": 8,
      "id": "a809e02f",
      "metadata": {
        "id": "a809e02f",
        "outputId": "3acc7ba3-af25-42fb-aeec-1462adaad08f",
        "colab": {
          "base_uri": "https://localhost:8080/"
        }
      },
      "outputs": [
        {
          "output_type": "stream",
          "name": "stdout",
          "text": [
            "Without NumPy: True, time: 0.000070 s\n",
            "With NumPy: True, time: 0.005280 s\n"
          ]
        }
      ],
      "source": [
        "x = np.array([1, 2, 2, 4])\n",
        "y = np.array([4, 2, 1, 2])\n",
        "\n",
        "def multiset_without_numpy(x, y):\n",
        "  return sorted(x) == sorted(y)\n",
        "\n",
        "def multiset_with_numpy(x, y):\n",
        "  return np.array_equal(np.sort(x), np.sort(y))\n",
        "\n",
        "start = time.time()\n",
        "res1 = multiset_without_numpy(x, y)\n",
        "end = time.time()\n",
        "print(f\"Without NumPy: {res1}, time: {end - start:.6f} s\")\n",
        "\n",
        "start = time.time()\n",
        "res2 = multiset_with_numpy(x, y)\n",
        "end = time.time()\n",
        "print(f\"With NumPy: {res2}, time: {end - start:.6f} s\")"
      ]
    },
    {
      "cell_type": "markdown",
      "id": "b9c185c7",
      "metadata": {
        "id": "b9c185c7"
      },
      "source": [
        "* __Задача 3__: Найти максимальный элемент в векторе x среди элементов, перед которыми стоит ноль.\n",
        " Например, для x = np.array([6, 2, 0, 3, 0, 0, 5, 7, 0]) ответ 5."
      ]
    },
    {
      "cell_type": "code",
      "execution_count": 9,
      "id": "b57df008",
      "metadata": {
        "id": "b57df008",
        "outputId": "8fe0b98f-8f70-4ea4-c687-ffbc216ff30e",
        "colab": {
          "base_uri": "https://localhost:8080/"
        }
      },
      "outputs": [
        {
          "output_type": "stream",
          "name": "stdout",
          "text": [
            "Without NumPy: 5, time: 0.000067 s\n",
            "With NumPy: 5, time: 0.000127 s\n"
          ]
        }
      ],
      "source": [
        "x = np.array([6, 2, 0, 3, 0, 0, 5, 7, 0])\n",
        "\n",
        "def max_after_zero_without_numpy(x):\n",
        "  result = [x[i] for i in range(1, len(x)) if x[i-1] == 0]\n",
        "  return max(result)\n",
        "\n",
        "def max_after_zero_with_numpy(x):\n",
        "  return np.max(x[1:][x[:-1] == 0])\n",
        "\n",
        "start = time.time()\n",
        "res1 = max_after_zero_without_numpy(x)\n",
        "end = time.time()\n",
        "print(f\"Without NumPy: {res1}, time: {end - start:.6f} s\")\n",
        "\n",
        "start = time.time()\n",
        "res2 = max_after_zero_with_numpy(x)\n",
        "end = time.time()\n",
        "print(f\"With NumPy: {res2}, time: {end - start:.6f} s\")"
      ]
    },
    {
      "cell_type": "markdown",
      "id": "480be4ce",
      "metadata": {
        "id": "480be4ce"
      },
      "source": [
        "* __Задача 4__: Реализовать кодирование длин серий (Run-length encoding). Для некоторого вектора x необходимо вернуть кортеж из двух векторов одинаковой длины. Первый содержит числа, а второй - сколько раз их нужно повторить.  \n",
        " Например, для x = np.array([2, 2, 2, 3, 3, 3, 5]) ответ (np.array([2, 3, 5]), np.array([3, 3, 1]))."
      ]
    },
    {
      "cell_type": "code",
      "execution_count": 11,
      "id": "3c592124",
      "metadata": {
        "id": "3c592124",
        "outputId": "b29a3e2f-46f1-4e3a-b8c6-979ded806f62",
        "colab": {
          "base_uri": "https://localhost:8080/"
        }
      },
      "outputs": [
        {
          "output_type": "stream",
          "name": "stdout",
          "text": [
            "Without NumPy: ([np.int64(2), np.int64(3), np.int64(5)], [3, 3, 1]), time: 0.000089 s\n",
            "With NumPy: (array([2, 3, 5]), array([3, 3, 1])), time: 0.000256 s\n"
          ]
        }
      ],
      "source": [
        "x = np.array([2, 2, 2, 3, 3, 3, 5])\n",
        "\n",
        "def length_encoding_without_numpy(x):\n",
        "  values = []\n",
        "  counts = []\n",
        "\n",
        "  prev = x[0]\n",
        "  count = 1\n",
        "\n",
        "  for i in range(1, len(x)):\n",
        "    if x[i] == prev:\n",
        "      count += 1\n",
        "    else:\n",
        "      values.append(prev)\n",
        "      counts.append(count)\n",
        "      prev = x[i]\n",
        "      count = 1\n",
        "\n",
        "  values.append(prev)\n",
        "  counts.append(count)\n",
        "\n",
        "  return values, counts\n",
        "\n",
        "def length_encoding_with_numpy(x):\n",
        "  points = np.flatnonzero(np.diff(x) != 0) + 1\n",
        "  results = np.concatenate(([0], points, [len(x)]))\n",
        "\n",
        "  values = x[results[:-1]]\n",
        "  counts = np.diff((results))\n",
        "\n",
        "  return values, counts\n",
        "\n",
        "start = time.time()\n",
        "res1 = length_encoding_without_numpy(x)\n",
        "end = time.time()\n",
        "print(f\"Without NumPy: {res1}, time: {end - start:.6f} s\")\n",
        "\n",
        "start = time.time()\n",
        "res2 = length_encoding_with_numpy(x)\n",
        "end = time.time()\n",
        "print(f\"With NumPy: {res2}, time: {end - start:.6f} s\")"
      ]
    },
    {
      "cell_type": "markdown",
      "id": "077532ec",
      "metadata": {
        "id": "077532ec"
      },
      "source": [
        "* __Задача 5__: Даны две выборки объектов - X и Y. Вычислить матрицу евклидовых расстояний между объектами. Сравните с функцией scipy.spatial.distance.cdist по скорости работы."
      ]
    },
    {
      "cell_type": "code",
      "execution_count": 13,
      "id": "1e807797",
      "metadata": {
        "id": "1e807797",
        "outputId": "538c72e8-d60c-4877-92f9-1e65f3e090e7",
        "colab": {
          "base_uri": "https://localhost:8080/"
        }
      },
      "outputs": [
        {
          "output_type": "stream",
          "name": "stdout",
          "text": [
            "Without NumPy: time: 12.782361 s\n",
            "With NumPy: time: 0.091815 s\n"
          ]
        }
      ],
      "source": [
        "import time\n",
        "from scipy.spatial.distance import cdist\n",
        "\n",
        "m, n, d = 1000, 800, 50\n",
        "X = np.random.rand(m, d)\n",
        "Y = np.random.rand(n, d)\n",
        "\n",
        "def euclidian_distances_without_numpy(X, Y):\n",
        "  result = []\n",
        "  for x in X:\n",
        "    row = []\n",
        "    for y in Y:\n",
        "      distance = 0\n",
        "      for xi, yi in zip(x, y):\n",
        "        distance += (xi - yi)**2\n",
        "      row.append(distance**0.5)\n",
        "    result.append(row)\n",
        "  return result\n",
        "\n",
        "def euclidian_distances_with_numpy(X, Y):\n",
        "  return cdist(X, Y, metric='euclidean')\n",
        "\n",
        "start = time.time()\n",
        "res1 = euclidian_distances_without_numpy(X, Y)\n",
        "end = time.time()\n",
        "print(f\"Without NumPy: time: {end - start:.6f} s\")\n",
        "\n",
        "start = time.time()\n",
        "res2 = euclidian_distances_with_numpy(X, Y)\n",
        "end = time.time()\n",
        "print(f\"With NumPy: time: {end - start:.6f} s\")"
      ]
    },
    {
      "cell_type": "markdown",
      "id": "973e8064",
      "metadata": {
        "id": "973e8064"
      },
      "source": [
        "_______\n",
        "________"
      ]
    },
    {
      "cell_type": "markdown",
      "id": "1104acb7",
      "metadata": {
        "id": "1104acb7"
      },
      "source": [
        "* #### __Задача 6__: CrunchieMunchies __*__\n",
        "\n",
        "Вы работаете в отделе маркетинга пищевой компании MyCrunch, которая разрабатывает новый вид вкусных, полезных злаков под названием **CrunchieMunchies**.\n",
        "\n",
        "Вы хотите продемонстрировать потребителям, насколько полезны ваши хлопья по сравнению с другими ведущими брендами, поэтому вы собрали данные о питании нескольких разных конкурентов.\n",
        "\n",
        "Ваша задача - использовать вычисления Numpy для анализа этих данных и доказать, что ваши **СrunchieMunchies** - самый здоровый выбор для потребителей.\n"
      ]
    },
    {
      "cell_type": "code",
      "execution_count": 3,
      "id": "10a77f8d",
      "metadata": {
        "id": "10a77f8d"
      },
      "outputs": [],
      "source": [
        "import numpy as np"
      ]
    },
    {
      "cell_type": "markdown",
      "id": "ab87cb03",
      "metadata": {
        "id": "ab87cb03"
      },
      "source": [
        "1. Просмотрите файл cereal.csv. Этот файл содержит количества калорий для различных марок хлопьев. Загрузите данные из файла и сохраните их как calorie_stats."
      ]
    },
    {
      "cell_type": "code",
      "execution_count": 7,
      "id": "9681ebf2",
      "metadata": {
        "id": "9681ebf2",
        "outputId": "62ade91d-afed-442b-9721-71cbfe28a53a",
        "colab": {
          "base_uri": "https://localhost:8080/"
        }
      },
      "outputs": [
        {
          "output_type": "execute_result",
          "data": {
            "text/plain": [
              "array([ 70., 120.,  70.,  50., 110., 110., 110., 130.,  90.,  90., 120.,\n",
              "       110., 120., 110., 110., 110., 100., 110., 110., 110., 100., 110.,\n",
              "       100., 100., 110., 110., 100., 120., 120., 110., 100., 110., 100.,\n",
              "       110., 120., 120., 110., 110., 110., 140., 110., 100., 110., 100.,\n",
              "       150., 150., 160., 100., 120., 140.,  90., 130., 120., 100.,  50.,\n",
              "        50., 100., 100., 120., 100.,  90., 110., 110.,  80.,  90.,  90.,\n",
              "       110., 110.,  90., 110., 140., 100., 110., 110., 100., 100., 110.])"
            ]
          },
          "metadata": {},
          "execution_count": 7
        }
      ],
      "source": [
        "calorie_stats = np.loadtxt(\"cereal.csv\", delimiter=\",\")\n",
        "calorie_stats"
      ]
    },
    {
      "cell_type": "markdown",
      "id": "139cfbd8",
      "metadata": {
        "id": "139cfbd8"
      },
      "source": [
        "2. В одной порции CrunchieMunchies содержится 60 калорий. Насколько выше среднее количество калорий у ваших конкурентов?\n",
        "\n",
        "Сохраните ответ в переменной average_calories и распечатайте переменную в терминале"
      ]
    },
    {
      "cell_type": "code",
      "execution_count": 8,
      "id": "7036d240",
      "metadata": {
        "id": "7036d240",
        "outputId": "f6e764af-0678-4d6a-92f4-efb8c6781fce",
        "colab": {
          "base_uri": "https://localhost:8080/"
        }
      },
      "outputs": [
        {
          "output_type": "stream",
          "name": "stdout",
          "text": [
            "46.88\n"
          ]
        }
      ],
      "source": [
        "crunchies_calories = 60\n",
        "average_calories = np.mean(calorie_stats) - crunchies_calories\n",
        "print(\"{:.2f}\".format(average_calories))"
      ]
    },
    {
      "cell_type": "markdown",
      "id": "b2ddb4cd",
      "metadata": {
        "id": "b2ddb4cd"
      },
      "source": [
        "3. Корректно ли среднее количество калорий отражает распределение набора данных? Давайте отсортируем данные и посмотрим.\n",
        "\n",
        "Отсортируйте данные и сохраните результат в переменной calorie_stats_sorted. Распечатайте отсортированную информацию"
      ]
    },
    {
      "cell_type": "code",
      "execution_count": 9,
      "id": "46eeb4ed",
      "metadata": {
        "id": "46eeb4ed",
        "outputId": "4e4c4c09-c815-4a25-d643-e2b345513810",
        "colab": {
          "base_uri": "https://localhost:8080/"
        }
      },
      "outputs": [
        {
          "output_type": "stream",
          "name": "stdout",
          "text": [
            "[ 50.  50.  50.  70.  70.  80.  90.  90.  90.  90.  90.  90.  90. 100.\n",
            " 100. 100. 100. 100. 100. 100. 100. 100. 100. 100. 100. 100. 100. 100.\n",
            " 100. 100. 110. 110. 110. 110. 110. 110. 110. 110. 110. 110. 110. 110.\n",
            " 110. 110. 110. 110. 110. 110. 110. 110. 110. 110. 110. 110. 110. 110.\n",
            " 110. 110. 110. 120. 120. 120. 120. 120. 120. 120. 120. 120. 120. 130.\n",
            " 130. 140. 140. 140. 150. 150. 160.]\n"
          ]
        }
      ],
      "source": [
        "calorie_stats_sorted = np.sort(calorie_stats)\n",
        "print(calorie_stats_sorted)"
      ]
    },
    {
      "cell_type": "markdown",
      "id": "4dc74116",
      "metadata": {
        "id": "4dc74116"
      },
      "source": [
        "4. Похоже, что большинство значений выше среднего. Давайте посмотрим, является ли медиана наиболее корректным показателем набора данных.\n",
        "\n",
        "Вычислите медиану набора данных и сохраните свой ответ в median_calories. Выведите медиану, чтобы вы могли видеть, как она сравнивается со средним значением."
      ]
    },
    {
      "cell_type": "code",
      "execution_count": 10,
      "id": "b56627c3",
      "metadata": {
        "id": "b56627c3",
        "outputId": "56c9873d-58cc-45bc-ca8f-e9642cb4242b",
        "colab": {
          "base_uri": "https://localhost:8080/"
        }
      },
      "outputs": [
        {
          "output_type": "stream",
          "name": "stdout",
          "text": [
            "Average calories: 106.88311688311688\n",
            "Median calories: 110.0\n"
          ]
        }
      ],
      "source": [
        "median_calories = np.median(calorie_stats)\n",
        "mean_calories = np.mean(calorie_stats)\n",
        "print(f\"Average calories: {mean_calories}\")\n",
        "print(f\"Median calories: {median_calories}\")\n",
        "#The calorie distribution is slightly left-skewed"
      ]
    },
    {
      "cell_type": "markdown",
      "id": "a63ab72f",
      "metadata": {
        "id": "a63ab72f"
      },
      "source": [
        "5. В то время как медиана показывает, что по крайней мере половина наших значений составляет более 100 калорий, было бы более впечатляюще показать, что значительная часть конкурентов имеет более высокое количество калорий, чем CrunchieMunchies.\n",
        "\n",
        "Рассчитайте различные процентили и распечатайте их, пока не найдете наименьший процентиль, превышающий 60 калорий. Сохраните это значение в переменной nth_percentile."
      ]
    },
    {
      "cell_type": "code",
      "execution_count": 11,
      "id": "fe80ce03",
      "metadata": {
        "id": "fe80ce03",
        "outputId": "5bdea5b1-ccc7-4faa-ee3f-dbdae8a25b5a",
        "colab": {
          "base_uri": "https://localhost:8080/"
        }
      },
      "outputs": [
        {
          "output_type": "stream",
          "name": "stdout",
          "text": [
            "The smallest percentile with calories > 60 is the 4th percentile, value: 70.0.\n"
          ]
        }
      ],
      "source": [
        "percentiles = np.percentile(calorie_stats, np.arange(101))\n",
        "percentiles\n",
        "nth_percentile = None\n",
        "for i, val in enumerate(percentiles):\n",
        "    if val > 60:\n",
        "        nth_percentile = i\n",
        "        print(f\"The smallest percentile with calories > 60 is the {i}th percentile, value: {val}.\")\n",
        "        break"
      ]
    },
    {
      "cell_type": "markdown",
      "id": "a2a3c5aa",
      "metadata": {
        "id": "a2a3c5aa"
      },
      "source": [
        "6. Хотя процентиль показывает нам, что у большинства конкурентов количество калорий намного выше, это неудобная концепция для использования в маркетинговых материалах.\n",
        "\n",
        "Вместо этого давайте подсчитаем процент хлопьев, в которых содержится более 60 калорий на порцию. Сохраните свой ответ в переменной more_calories и распечатайте его"
      ]
    },
    {
      "cell_type": "code",
      "execution_count": 12,
      "id": "ade0f6ea",
      "metadata": {
        "id": "ade0f6ea",
        "outputId": "ebc9b66a-ef7f-48d4-fe59-ec4fc8523fdc",
        "colab": {
          "base_uri": "https://localhost:8080/"
        }
      },
      "outputs": [
        {
          "output_type": "stream",
          "name": "stdout",
          "text": [
            "Percentage of cereals with calories greater than 60: 96.10%\n"
          ]
        }
      ],
      "source": [
        "more_calories = np.sum(calorie_stats > 60) / len(calorie_stats) * 100\n",
        "print(f\"Percentage of cereals with calories greater than 60: {more_calories:.2f}%\")"
      ]
    },
    {
      "cell_type": "markdown",
      "id": "1735d65b",
      "metadata": {
        "id": "1735d65b"
      },
      "source": [
        "7. Это действительно высокий процент. Это будет очень полезно, когда мы будем продвигать CrunchieMunchies. Но один вопрос заключается в том, насколько велики различия в наборе данных? Можем ли мы сделать обобщение, что в большинстве злаков содержится около 100 калорий или разброс еще больше?\n",
        "\n",
        "Рассчитайте величину отклонения, найдя стандартное отклонение, Сохраните свой ответ в calorie_std и распечатайте на терминале. Как мы можем включить эту ценность в наш анализ?"
      ]
    },
    {
      "cell_type": "code",
      "execution_count": null,
      "id": "85c8df1f",
      "metadata": {
        "id": "85c8df1f"
      },
      "outputs": [],
      "source": [
        "calorie_std = np.std(calorie_stats)\n",
        "print(f\"Calorie standard deviation: {calorie_std:.2f}\")"
      ]
    },
    {
      "cell_type": "markdown",
      "id": "037455c5",
      "metadata": {
        "id": "037455c5"
      },
      "source": [
        "8. Напишите короткий абзац, в котором кратко изложите свои выводы и то, как, по вашему мнению, эти данные могут быть использованы в интересах Mycrunch при маркетинге CrunchieMunchies."
      ]
    },
    {
      "cell_type": "code",
      "execution_count": null,
      "id": "c260fee9",
      "metadata": {
        "id": "c260fee9"
      },
      "outputs": [],
      "source": [
        "# your code"
      ]
    }
  ],
  "metadata": {
    "kernelspec": {
      "display_name": "Python 3 (ipykernel)",
      "language": "python",
      "name": "python3"
    },
    "language_info": {
      "codemirror_mode": {
        "name": "ipython",
        "version": 3
      },
      "file_extension": ".py",
      "mimetype": "text/x-python",
      "name": "python",
      "nbconvert_exporter": "python",
      "pygments_lexer": "ipython3",
      "version": "3.8.10"
    },
    "colab": {
      "provenance": []
    }
  },
  "nbformat": 4,
  "nbformat_minor": 5
}