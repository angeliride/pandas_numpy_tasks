{
  "cells": [
    {
      "cell_type": "markdown",
      "metadata": {
        "id": "CZJx4ZgaxzNp"
      },
      "source": [
        "## Датасет собран из базы данных переписи 1994 года и содержит данные о доходах.\n",
        "### Информация о данных:\n",
        "* age: continuous.\n",
        "* workclass: Private, Self-emp-not-inc, Self-emp-inc, Federal-gov, Local-gov, State-gov, Without-pay, Never-worked.\n",
        "* fnlwgt: continuous.\n",
        "* education: Bachelors, Some-college, 11th, HS-grad, Prof-school, Assoc-acdm, Assoc-voc, 9th, 7th-8th, 12th, * Masters, 1st-4th, 10th, Doctorate, 5th-6th, Preschool.\n",
        "* education-num: continuous.\n",
        "* marital-status: Married-civ-spouse, Divorced, Never-married, Separated, Widowed, Married-spouse-absent, Married-AF-spouse.\n",
        "* occupation: Tech-support, Craft-repair, Other-service, Sales, Exec-managerial, Prof-specialty, Handlers-cleaners, Machine-op-inspct, Adm-clerical, Farming-fishing, Transport-moving, Priv-house-serv, Protective-serv, Armed-Forces.\n",
        "* relationship: Wife, Own-child, Husband, Not-in-family, Other-relative, Unmarried.\n",
        "* race: White, Asian-Pac-Islander, Amer-Indian-Eskimo, Other, Black.\n",
        "* sex: Female, Male.\n",
        "* capital-gain: continuous.\n",
        "* capital-loss: continuous.\n",
        "* hours-per-week: continuous.\n",
        "* native-country: United-States, Cambodia, England, Puerto-Rico, Canada, Germany, Outlying-US(Guam-USVI-etc), India, Japan, Greece, South, China, Cuba, Iran, Honduras, Philippines, Italy, Poland, Jamaica, Vietnam, Mexico, Portugal, Ireland, France, Dominican-Republic, Laos, Ecuador, Taiwan, Haiti, Columbia, Hungary, Guatemala, Nicaragua, Scotland, Thailand, Yugoslavia, El-Salvador, Trinadad&Tobago, Peru, Hong, Holand-Netherlands.\n",
        "* salary: >50K,<=50K\n",
        "\n",
        "## Проведите анализ данных при помощи Pandas выполнив поставленные задачи.\n",
        "####"
      ]
    },
    {
      "cell_type": "code",
      "execution_count": 1,
      "metadata": {
        "id": "xRN3PkJ0xzNr"
      },
      "outputs": [],
      "source": [
        "import pandas as pd"
      ]
    },
    {
      "cell_type": "code",
      "execution_count": 28,
      "metadata": {
        "id": "D01D_ssrxzNs",
        "outputId": "8c7f432b-78b6-4fd6-a4e7-3f1013208661",
        "colab": {
          "base_uri": "https://localhost:8080/",
          "height": 399
        }
      },
      "outputs": [
        {
          "output_type": "execute_result",
          "data": {
            "text/plain": [
              "   age         workclass  fnlwgt  education  education-num  \\\n",
              "0   39         State-gov   77516  Bachelors             13   \n",
              "1   50  Self-emp-not-inc   83311  Bachelors             13   \n",
              "2   38           Private  215646    HS-grad              9   \n",
              "3   53           Private  234721       11th              7   \n",
              "4   28           Private  338409  Bachelors             13   \n",
              "\n",
              "       marital-status         occupation   relationship   race     sex  \\\n",
              "0       Never-married       Adm-clerical  Not-in-family  White    Male   \n",
              "1  Married-civ-spouse    Exec-managerial        Husband  White    Male   \n",
              "2            Divorced  Handlers-cleaners  Not-in-family  White    Male   \n",
              "3  Married-civ-spouse  Handlers-cleaners        Husband  Black    Male   \n",
              "4  Married-civ-spouse     Prof-specialty           Wife  Black  Female   \n",
              "\n",
              "   capital-gain  capital-loss  hours-per-week native-country salary  \n",
              "0          2174             0              40  United-States  <=50K  \n",
              "1             0             0              13  United-States  <=50K  \n",
              "2             0             0              40  United-States  <=50K  \n",
              "3             0             0              40  United-States  <=50K  \n",
              "4             0             0              40           Cuba  <=50K  "
            ],
            "text/html": [
              "\n",
              "  <div id=\"df-978d7593-6d67-4071-8ae6-db5ef13fd36b\" class=\"colab-df-container\">\n",
              "    <div>\n",
              "<style scoped>\n",
              "    .dataframe tbody tr th:only-of-type {\n",
              "        vertical-align: middle;\n",
              "    }\n",
              "\n",
              "    .dataframe tbody tr th {\n",
              "        vertical-align: top;\n",
              "    }\n",
              "\n",
              "    .dataframe thead th {\n",
              "        text-align: right;\n",
              "    }\n",
              "</style>\n",
              "<table border=\"1\" class=\"dataframe\">\n",
              "  <thead>\n",
              "    <tr style=\"text-align: right;\">\n",
              "      <th></th>\n",
              "      <th>age</th>\n",
              "      <th>workclass</th>\n",
              "      <th>fnlwgt</th>\n",
              "      <th>education</th>\n",
              "      <th>education-num</th>\n",
              "      <th>marital-status</th>\n",
              "      <th>occupation</th>\n",
              "      <th>relationship</th>\n",
              "      <th>race</th>\n",
              "      <th>sex</th>\n",
              "      <th>capital-gain</th>\n",
              "      <th>capital-loss</th>\n",
              "      <th>hours-per-week</th>\n",
              "      <th>native-country</th>\n",
              "      <th>salary</th>\n",
              "    </tr>\n",
              "  </thead>\n",
              "  <tbody>\n",
              "    <tr>\n",
              "      <th>0</th>\n",
              "      <td>39</td>\n",
              "      <td>State-gov</td>\n",
              "      <td>77516</td>\n",
              "      <td>Bachelors</td>\n",
              "      <td>13</td>\n",
              "      <td>Never-married</td>\n",
              "      <td>Adm-clerical</td>\n",
              "      <td>Not-in-family</td>\n",
              "      <td>White</td>\n",
              "      <td>Male</td>\n",
              "      <td>2174</td>\n",
              "      <td>0</td>\n",
              "      <td>40</td>\n",
              "      <td>United-States</td>\n",
              "      <td>&lt;=50K</td>\n",
              "    </tr>\n",
              "    <tr>\n",
              "      <th>1</th>\n",
              "      <td>50</td>\n",
              "      <td>Self-emp-not-inc</td>\n",
              "      <td>83311</td>\n",
              "      <td>Bachelors</td>\n",
              "      <td>13</td>\n",
              "      <td>Married-civ-spouse</td>\n",
              "      <td>Exec-managerial</td>\n",
              "      <td>Husband</td>\n",
              "      <td>White</td>\n",
              "      <td>Male</td>\n",
              "      <td>0</td>\n",
              "      <td>0</td>\n",
              "      <td>13</td>\n",
              "      <td>United-States</td>\n",
              "      <td>&lt;=50K</td>\n",
              "    </tr>\n",
              "    <tr>\n",
              "      <th>2</th>\n",
              "      <td>38</td>\n",
              "      <td>Private</td>\n",
              "      <td>215646</td>\n",
              "      <td>HS-grad</td>\n",
              "      <td>9</td>\n",
              "      <td>Divorced</td>\n",
              "      <td>Handlers-cleaners</td>\n",
              "      <td>Not-in-family</td>\n",
              "      <td>White</td>\n",
              "      <td>Male</td>\n",
              "      <td>0</td>\n",
              "      <td>0</td>\n",
              "      <td>40</td>\n",
              "      <td>United-States</td>\n",
              "      <td>&lt;=50K</td>\n",
              "    </tr>\n",
              "    <tr>\n",
              "      <th>3</th>\n",
              "      <td>53</td>\n",
              "      <td>Private</td>\n",
              "      <td>234721</td>\n",
              "      <td>11th</td>\n",
              "      <td>7</td>\n",
              "      <td>Married-civ-spouse</td>\n",
              "      <td>Handlers-cleaners</td>\n",
              "      <td>Husband</td>\n",
              "      <td>Black</td>\n",
              "      <td>Male</td>\n",
              "      <td>0</td>\n",
              "      <td>0</td>\n",
              "      <td>40</td>\n",
              "      <td>United-States</td>\n",
              "      <td>&lt;=50K</td>\n",
              "    </tr>\n",
              "    <tr>\n",
              "      <th>4</th>\n",
              "      <td>28</td>\n",
              "      <td>Private</td>\n",
              "      <td>338409</td>\n",
              "      <td>Bachelors</td>\n",
              "      <td>13</td>\n",
              "      <td>Married-civ-spouse</td>\n",
              "      <td>Prof-specialty</td>\n",
              "      <td>Wife</td>\n",
              "      <td>Black</td>\n",
              "      <td>Female</td>\n",
              "      <td>0</td>\n",
              "      <td>0</td>\n",
              "      <td>40</td>\n",
              "      <td>Cuba</td>\n",
              "      <td>&lt;=50K</td>\n",
              "    </tr>\n",
              "  </tbody>\n",
              "</table>\n",
              "</div>\n",
              "    <div class=\"colab-df-buttons\">\n",
              "\n",
              "  <div class=\"colab-df-container\">\n",
              "    <button class=\"colab-df-convert\" onclick=\"convertToInteractive('df-978d7593-6d67-4071-8ae6-db5ef13fd36b')\"\n",
              "            title=\"Convert this dataframe to an interactive table.\"\n",
              "            style=\"display:none;\">\n",
              "\n",
              "  <svg xmlns=\"http://www.w3.org/2000/svg\" height=\"24px\" viewBox=\"0 -960 960 960\">\n",
              "    <path d=\"M120-120v-720h720v720H120Zm60-500h600v-160H180v160Zm220 220h160v-160H400v160Zm0 220h160v-160H400v160ZM180-400h160v-160H180v160Zm440 0h160v-160H620v160ZM180-180h160v-160H180v160Zm440 0h160v-160H620v160Z\"/>\n",
              "  </svg>\n",
              "    </button>\n",
              "\n",
              "  <style>\n",
              "    .colab-df-container {\n",
              "      display:flex;\n",
              "      gap: 12px;\n",
              "    }\n",
              "\n",
              "    .colab-df-convert {\n",
              "      background-color: #E8F0FE;\n",
              "      border: none;\n",
              "      border-radius: 50%;\n",
              "      cursor: pointer;\n",
              "      display: none;\n",
              "      fill: #1967D2;\n",
              "      height: 32px;\n",
              "      padding: 0 0 0 0;\n",
              "      width: 32px;\n",
              "    }\n",
              "\n",
              "    .colab-df-convert:hover {\n",
              "      background-color: #E2EBFA;\n",
              "      box-shadow: 0px 1px 2px rgba(60, 64, 67, 0.3), 0px 1px 3px 1px rgba(60, 64, 67, 0.15);\n",
              "      fill: #174EA6;\n",
              "    }\n",
              "\n",
              "    .colab-df-buttons div {\n",
              "      margin-bottom: 4px;\n",
              "    }\n",
              "\n",
              "    [theme=dark] .colab-df-convert {\n",
              "      background-color: #3B4455;\n",
              "      fill: #D2E3FC;\n",
              "    }\n",
              "\n",
              "    [theme=dark] .colab-df-convert:hover {\n",
              "      background-color: #434B5C;\n",
              "      box-shadow: 0px 1px 3px 1px rgba(0, 0, 0, 0.15);\n",
              "      filter: drop-shadow(0px 1px 2px rgba(0, 0, 0, 0.3));\n",
              "      fill: #FFFFFF;\n",
              "    }\n",
              "  </style>\n",
              "\n",
              "    <script>\n",
              "      const buttonEl =\n",
              "        document.querySelector('#df-978d7593-6d67-4071-8ae6-db5ef13fd36b button.colab-df-convert');\n",
              "      buttonEl.style.display =\n",
              "        google.colab.kernel.accessAllowed ? 'block' : 'none';\n",
              "\n",
              "      async function convertToInteractive(key) {\n",
              "        const element = document.querySelector('#df-978d7593-6d67-4071-8ae6-db5ef13fd36b');\n",
              "        const dataTable =\n",
              "          await google.colab.kernel.invokeFunction('convertToInteractive',\n",
              "                                                    [key], {});\n",
              "        if (!dataTable) return;\n",
              "\n",
              "        const docLinkHtml = 'Like what you see? Visit the ' +\n",
              "          '<a target=\"_blank\" href=https://colab.research.google.com/notebooks/data_table.ipynb>data table notebook</a>'\n",
              "          + ' to learn more about interactive tables.';\n",
              "        element.innerHTML = '';\n",
              "        dataTable['output_type'] = 'display_data';\n",
              "        await google.colab.output.renderOutput(dataTable, element);\n",
              "        const docLink = document.createElement('div');\n",
              "        docLink.innerHTML = docLinkHtml;\n",
              "        element.appendChild(docLink);\n",
              "      }\n",
              "    </script>\n",
              "  </div>\n",
              "\n",
              "\n",
              "    <div id=\"df-5c7a7546-2ee0-4dca-b58c-0b8e4e97b660\">\n",
              "      <button class=\"colab-df-quickchart\" onclick=\"quickchart('df-5c7a7546-2ee0-4dca-b58c-0b8e4e97b660')\"\n",
              "                title=\"Suggest charts\"\n",
              "                style=\"display:none;\">\n",
              "\n",
              "<svg xmlns=\"http://www.w3.org/2000/svg\" height=\"24px\"viewBox=\"0 0 24 24\"\n",
              "     width=\"24px\">\n",
              "    <g>\n",
              "        <path d=\"M19 3H5c-1.1 0-2 .9-2 2v14c0 1.1.9 2 2 2h14c1.1 0 2-.9 2-2V5c0-1.1-.9-2-2-2zM9 17H7v-7h2v7zm4 0h-2V7h2v10zm4 0h-2v-4h2v4z\"/>\n",
              "    </g>\n",
              "</svg>\n",
              "      </button>\n",
              "\n",
              "<style>\n",
              "  .colab-df-quickchart {\n",
              "      --bg-color: #E8F0FE;\n",
              "      --fill-color: #1967D2;\n",
              "      --hover-bg-color: #E2EBFA;\n",
              "      --hover-fill-color: #174EA6;\n",
              "      --disabled-fill-color: #AAA;\n",
              "      --disabled-bg-color: #DDD;\n",
              "  }\n",
              "\n",
              "  [theme=dark] .colab-df-quickchart {\n",
              "      --bg-color: #3B4455;\n",
              "      --fill-color: #D2E3FC;\n",
              "      --hover-bg-color: #434B5C;\n",
              "      --hover-fill-color: #FFFFFF;\n",
              "      --disabled-bg-color: #3B4455;\n",
              "      --disabled-fill-color: #666;\n",
              "  }\n",
              "\n",
              "  .colab-df-quickchart {\n",
              "    background-color: var(--bg-color);\n",
              "    border: none;\n",
              "    border-radius: 50%;\n",
              "    cursor: pointer;\n",
              "    display: none;\n",
              "    fill: var(--fill-color);\n",
              "    height: 32px;\n",
              "    padding: 0;\n",
              "    width: 32px;\n",
              "  }\n",
              "\n",
              "  .colab-df-quickchart:hover {\n",
              "    background-color: var(--hover-bg-color);\n",
              "    box-shadow: 0 1px 2px rgba(60, 64, 67, 0.3), 0 1px 3px 1px rgba(60, 64, 67, 0.15);\n",
              "    fill: var(--button-hover-fill-color);\n",
              "  }\n",
              "\n",
              "  .colab-df-quickchart-complete:disabled,\n",
              "  .colab-df-quickchart-complete:disabled:hover {\n",
              "    background-color: var(--disabled-bg-color);\n",
              "    fill: var(--disabled-fill-color);\n",
              "    box-shadow: none;\n",
              "  }\n",
              "\n",
              "  .colab-df-spinner {\n",
              "    border: 2px solid var(--fill-color);\n",
              "    border-color: transparent;\n",
              "    border-bottom-color: var(--fill-color);\n",
              "    animation:\n",
              "      spin 1s steps(1) infinite;\n",
              "  }\n",
              "\n",
              "  @keyframes spin {\n",
              "    0% {\n",
              "      border-color: transparent;\n",
              "      border-bottom-color: var(--fill-color);\n",
              "      border-left-color: var(--fill-color);\n",
              "    }\n",
              "    20% {\n",
              "      border-color: transparent;\n",
              "      border-left-color: var(--fill-color);\n",
              "      border-top-color: var(--fill-color);\n",
              "    }\n",
              "    30% {\n",
              "      border-color: transparent;\n",
              "      border-left-color: var(--fill-color);\n",
              "      border-top-color: var(--fill-color);\n",
              "      border-right-color: var(--fill-color);\n",
              "    }\n",
              "    40% {\n",
              "      border-color: transparent;\n",
              "      border-right-color: var(--fill-color);\n",
              "      border-top-color: var(--fill-color);\n",
              "    }\n",
              "    60% {\n",
              "      border-color: transparent;\n",
              "      border-right-color: var(--fill-color);\n",
              "    }\n",
              "    80% {\n",
              "      border-color: transparent;\n",
              "      border-right-color: var(--fill-color);\n",
              "      border-bottom-color: var(--fill-color);\n",
              "    }\n",
              "    90% {\n",
              "      border-color: transparent;\n",
              "      border-bottom-color: var(--fill-color);\n",
              "    }\n",
              "  }\n",
              "</style>\n",
              "\n",
              "      <script>\n",
              "        async function quickchart(key) {\n",
              "          const quickchartButtonEl =\n",
              "            document.querySelector('#' + key + ' button');\n",
              "          quickchartButtonEl.disabled = true;  // To prevent multiple clicks.\n",
              "          quickchartButtonEl.classList.add('colab-df-spinner');\n",
              "          try {\n",
              "            const charts = await google.colab.kernel.invokeFunction(\n",
              "                'suggestCharts', [key], {});\n",
              "          } catch (error) {\n",
              "            console.error('Error during call to suggestCharts:', error);\n",
              "          }\n",
              "          quickchartButtonEl.classList.remove('colab-df-spinner');\n",
              "          quickchartButtonEl.classList.add('colab-df-quickchart-complete');\n",
              "        }\n",
              "        (() => {\n",
              "          let quickchartButtonEl =\n",
              "            document.querySelector('#df-5c7a7546-2ee0-4dca-b58c-0b8e4e97b660 button');\n",
              "          quickchartButtonEl.style.display =\n",
              "            google.colab.kernel.accessAllowed ? 'block' : 'none';\n",
              "        })();\n",
              "      </script>\n",
              "    </div>\n",
              "\n",
              "    </div>\n",
              "  </div>\n"
            ],
            "application/vnd.google.colaboratory.intrinsic+json": {
              "type": "dataframe",
              "variable_name": "data",
              "summary": "{\n  \"name\": \"data\",\n  \"rows\": 32561,\n  \"fields\": [\n    {\n      \"column\": \"age\",\n      \"properties\": {\n        \"dtype\": \"number\",\n        \"std\": 13,\n        \"min\": 17,\n        \"max\": 90,\n        \"num_unique_values\": 73,\n        \"samples\": [\n          28,\n          73,\n          35\n        ],\n        \"semantic_type\": \"\",\n        \"description\": \"\"\n      }\n    },\n    {\n      \"column\": \"workclass\",\n      \"properties\": {\n        \"dtype\": \"category\",\n        \"num_unique_values\": 9,\n        \"samples\": [\n          \"Without-pay\",\n          \"Self-emp-not-inc\",\n          \"?\"\n        ],\n        \"semantic_type\": \"\",\n        \"description\": \"\"\n      }\n    },\n    {\n      \"column\": \"fnlwgt\",\n      \"properties\": {\n        \"dtype\": \"number\",\n        \"std\": 105549,\n        \"min\": 12285,\n        \"max\": 1484705,\n        \"num_unique_values\": 21648,\n        \"samples\": [\n          128485,\n          469907,\n          235951\n        ],\n        \"semantic_type\": \"\",\n        \"description\": \"\"\n      }\n    },\n    {\n      \"column\": \"education\",\n      \"properties\": {\n        \"dtype\": \"category\",\n        \"num_unique_values\": 16,\n        \"samples\": [\n          \"Bachelors\",\n          \"HS-grad\",\n          \"Some-college\"\n        ],\n        \"semantic_type\": \"\",\n        \"description\": \"\"\n      }\n    },\n    {\n      \"column\": \"education-num\",\n      \"properties\": {\n        \"dtype\": \"number\",\n        \"std\": 2,\n        \"min\": 1,\n        \"max\": 16,\n        \"num_unique_values\": 16,\n        \"samples\": [\n          13,\n          9,\n          10\n        ],\n        \"semantic_type\": \"\",\n        \"description\": \"\"\n      }\n    },\n    {\n      \"column\": \"marital-status\",\n      \"properties\": {\n        \"dtype\": \"category\",\n        \"num_unique_values\": 7,\n        \"samples\": [\n          \"Never-married\",\n          \"Married-civ-spouse\",\n          \"Married-AF-spouse\"\n        ],\n        \"semantic_type\": \"\",\n        \"description\": \"\"\n      }\n    },\n    {\n      \"column\": \"occupation\",\n      \"properties\": {\n        \"dtype\": \"category\",\n        \"num_unique_values\": 15,\n        \"samples\": [\n          \"Machine-op-inspct\",\n          \"?\",\n          \"Adm-clerical\"\n        ],\n        \"semantic_type\": \"\",\n        \"description\": \"\"\n      }\n    },\n    {\n      \"column\": \"relationship\",\n      \"properties\": {\n        \"dtype\": \"category\",\n        \"num_unique_values\": 6,\n        \"samples\": [\n          \"Not-in-family\",\n          \"Husband\",\n          \"Other-relative\"\n        ],\n        \"semantic_type\": \"\",\n        \"description\": \"\"\n      }\n    },\n    {\n      \"column\": \"race\",\n      \"properties\": {\n        \"dtype\": \"category\",\n        \"num_unique_values\": 5,\n        \"samples\": [\n          \"Black\",\n          \"Other\",\n          \"Asian-Pac-Islander\"\n        ],\n        \"semantic_type\": \"\",\n        \"description\": \"\"\n      }\n    },\n    {\n      \"column\": \"sex\",\n      \"properties\": {\n        \"dtype\": \"category\",\n        \"num_unique_values\": 2,\n        \"samples\": [\n          \"Female\",\n          \"Male\"\n        ],\n        \"semantic_type\": \"\",\n        \"description\": \"\"\n      }\n    },\n    {\n      \"column\": \"capital-gain\",\n      \"properties\": {\n        \"dtype\": \"number\",\n        \"std\": 7385,\n        \"min\": 0,\n        \"max\": 99999,\n        \"num_unique_values\": 119,\n        \"samples\": [\n          3781,\n          15831\n        ],\n        \"semantic_type\": \"\",\n        \"description\": \"\"\n      }\n    },\n    {\n      \"column\": \"capital-loss\",\n      \"properties\": {\n        \"dtype\": \"number\",\n        \"std\": 402,\n        \"min\": 0,\n        \"max\": 4356,\n        \"num_unique_values\": 92,\n        \"samples\": [\n          419,\n          2051\n        ],\n        \"semantic_type\": \"\",\n        \"description\": \"\"\n      }\n    },\n    {\n      \"column\": \"hours-per-week\",\n      \"properties\": {\n        \"dtype\": \"number\",\n        \"std\": 12,\n        \"min\": 1,\n        \"max\": 99,\n        \"num_unique_values\": 94,\n        \"samples\": [\n          6,\n          22\n        ],\n        \"semantic_type\": \"\",\n        \"description\": \"\"\n      }\n    },\n    {\n      \"column\": \"native-country\",\n      \"properties\": {\n        \"dtype\": \"category\",\n        \"num_unique_values\": 42,\n        \"samples\": [\n          \"El-Salvador\",\n          \"Philippines\"\n        ],\n        \"semantic_type\": \"\",\n        \"description\": \"\"\n      }\n    },\n    {\n      \"column\": \"salary\",\n      \"properties\": {\n        \"dtype\": \"category\",\n        \"num_unique_values\": 2,\n        \"samples\": [\n          \">50K\",\n          \"<=50K\"\n        ],\n        \"semantic_type\": \"\",\n        \"description\": \"\"\n      }\n    }\n  ]\n}"
            }
          },
          "metadata": {},
          "execution_count": 28
        }
      ],
      "source": [
        "# загружаем датасет\n",
        "data = pd.read_csv(\"adult.data.csv\")\n",
        "data.head()"
      ]
    },
    {
      "cell_type": "markdown",
      "metadata": {
        "id": "xHM1dmQxxzNt"
      },
      "source": [
        "**1. Посчитайте, сколько мужчин и женщин (признак *sex*) представлено в этом датасете**"
      ]
    },
    {
      "cell_type": "code",
      "execution_count": 17,
      "metadata": {
        "id": "00TkvsHbxzNt",
        "outputId": "4736c345-2203-4852-c038-799e7246d24b",
        "colab": {
          "base_uri": "https://localhost:8080/"
        }
      },
      "outputs": [
        {
          "output_type": "stream",
          "name": "stdout",
          "text": [
            "sex\n",
            "Male      21790\n",
            "Female    10771\n",
            "Name: count, dtype: int64\n"
          ]
        }
      ],
      "source": [
        "counts = data[\"sex\"].value_counts()\n",
        "print(counts)"
      ]
    },
    {
      "cell_type": "markdown",
      "metadata": {
        "id": "JlQub_kJxzNt"
      },
      "source": [
        "**2. Каков средний возраст мужчин (признак *age*) по всему датасету?**"
      ]
    },
    {
      "cell_type": "code",
      "execution_count": 7,
      "metadata": {
        "id": "qDRNM828xzNt",
        "outputId": "7d2c4ac2-9725-45f7-f521-ca677ad5f1b4",
        "colab": {
          "base_uri": "https://localhost:8080/"
        }
      },
      "outputs": [
        {
          "output_type": "execute_result",
          "data": {
            "text/plain": [
              "np.float64(39.37220767216145)"
            ]
          },
          "metadata": {},
          "execution_count": 7
        }
      ],
      "source": [
        "data[data[\"sex\"] == \"Male\"][\"age\"].mean()"
      ]
    },
    {
      "cell_type": "markdown",
      "metadata": {
        "id": "fVkARuz-xzNu"
      },
      "source": [
        "**3. Какова доля граждан Соединенных Штатов (признак *native-country*)?**"
      ]
    },
    {
      "cell_type": "code",
      "execution_count": 8,
      "metadata": {
        "id": "WtULM1ujxzNu",
        "outputId": "a0eb916f-83e1-4f24-e8fb-01559bb09de6",
        "colab": {
          "base_uri": "https://localhost:8080/"
        }
      },
      "outputs": [
        {
          "output_type": "stream",
          "name": "stdout",
          "text": [
            "89.48%\n"
          ]
        }
      ],
      "source": [
        "us_share = data[\"native-country\"].str.contains(\"United-States\").mean()\n",
        "print(f\"{us_share:.2%}\")"
      ]
    },
    {
      "cell_type": "code",
      "source": [
        "us_share2 =  (data[\"native-country\"] == \"United-States\").mean()\n",
        "print(f\"{us_share:.2%}\")"
      ],
      "metadata": {
        "id": "cJ9f2yKizb4Z",
        "outputId": "8ccdeaf8-9fb5-4329-c150-fc51241d1e7a",
        "colab": {
          "base_uri": "https://localhost:8080/"
        }
      },
      "execution_count": 9,
      "outputs": [
        {
          "output_type": "stream",
          "name": "stdout",
          "text": [
            "89.48%\n"
          ]
        }
      ]
    },
    {
      "cell_type": "markdown",
      "metadata": {
        "id": "F4CvAdhgxzNu"
      },
      "source": [
        "**4-5. Рассчитайте среднее значение и среднеквадратичное отклонение возраста тех, кто получает более 50K в год (признак *salary*) и тех, кто получает менее 50K в год**"
      ]
    },
    {
      "cell_type": "code",
      "execution_count": 18,
      "metadata": {
        "id": "jslq4aXqxzNu",
        "outputId": "5c3ef41c-8d9d-45b9-abee-9e59b5d3497b",
        "colab": {
          "base_uri": "https://localhost:8080/"
        }
      },
      "outputs": [
        {
          "output_type": "stream",
          "name": "stdout",
          "text": [
            "             mean        std\n",
            "salary                      \n",
            "<=50K   36.783738  14.020088\n",
            ">50K    44.249841  10.519028\n",
            "['<=50K' '>50K']\n"
          ]
        }
      ],
      "source": [
        "mean_and_std_age = data.groupby(\"salary\")[\"age\"].agg([\"mean\", \"std\"])\n",
        "print(mean_and_std_age)"
      ]
    },
    {
      "cell_type": "markdown",
      "metadata": {
        "id": "yPLtCskWxzNu"
      },
      "source": [
        "**6. Правда ли, что люди, которые получают больше 50k, имеют минимум высшее образование? (признак *education – Bachelors, Prof-school, Assoc-acdm, Assoc-voc, Masters* или *Doctorate*)**"
      ]
    },
    {
      "cell_type": "code",
      "execution_count": 13,
      "metadata": {
        "id": "loLVvVeKxzNu",
        "outputId": "c81ffc80-c423-472c-af27-04edd3052eda",
        "colab": {
          "base_uri": "https://localhost:8080/"
        }
      },
      "outputs": [
        {
          "output_type": "stream",
          "name": "stdout",
          "text": [
            "False\n"
          ]
        }
      ],
      "source": [
        "higher_education = [\"Bachelors\", \"Prof-school\", \"Assoc-acdm\", \"Assoc-voc\", \"Masters\", \"Doctorate\"]\n",
        "result = data[data[\"salary\"] == \">50K\"][\"education\"].isin(higher_education).all()\n",
        "print(result)"
      ]
    },
    {
      "cell_type": "markdown",
      "metadata": {
        "id": "g1Nn-cmQxzNu"
      },
      "source": [
        "**7. Выведите статистику возраста для каждой расы (признак *race*) и каждого пола. Используйте *groupby* и *describe*. Найдите таким образом максимальный возраст мужчин расы *Asian-Pac-Islander*.**"
      ]
    },
    {
      "cell_type": "code",
      "execution_count": 19,
      "metadata": {
        "scrolled": true,
        "id": "6V2k6oAHxzNv",
        "outputId": "3cc48c3f-3c95-4c4c-89f7-1da95acac679",
        "colab": {
          "base_uri": "https://localhost:8080/"
        }
      },
      "outputs": [
        {
          "output_type": "stream",
          "name": "stdout",
          "text": [
            "                             count       mean        std   min   25%   50%  \\\n",
            "race               sex                                                       \n",
            "Amer-Indian-Eskimo Female    119.0  37.117647  13.114991  17.0  27.0  36.0   \n",
            "                   Male      192.0  37.208333  12.049563  17.0  28.0  35.0   \n",
            "Asian-Pac-Islander Female    346.0  35.089595  12.300845  17.0  25.0  33.0   \n",
            "                   Male      693.0  39.073593  12.883944  18.0  29.0  37.0   \n",
            "Black              Female   1555.0  37.854019  12.637197  17.0  28.0  37.0   \n",
            "                   Male     1569.0  37.682600  12.882612  17.0  27.0  36.0   \n",
            "Other              Female    109.0  31.678899  11.631599  17.0  23.0  29.0   \n",
            "                   Male      162.0  34.654321  11.355531  17.0  26.0  32.0   \n",
            "White              Female   8642.0  36.811618  14.329093  17.0  25.0  35.0   \n",
            "                   Male    19174.0  39.652498  13.436029  17.0  29.0  38.0   \n",
            "\n",
            "                             75%   max  \n",
            "race               sex                  \n",
            "Amer-Indian-Eskimo Female  46.00  80.0  \n",
            "                   Male    45.00  82.0  \n",
            "Asian-Pac-Islander Female  43.75  75.0  \n",
            "                   Male    46.00  90.0  \n",
            "Black              Female  46.00  90.0  \n",
            "                   Male    46.00  90.0  \n",
            "Other              Female  39.00  74.0  \n",
            "                   Male    42.00  77.0  \n",
            "White              Female  46.00  90.0  \n",
            "                   Male    49.00  90.0  \n",
            "90.0\n"
          ]
        }
      ],
      "source": [
        "statistics = data.groupby([\"race\", \"sex\"])[\"age\"].describe()\n",
        "print(statistics)\n",
        "max_age = statistics.loc[(\"Asian-Pac-Islander\", \"Male\"), \"max\"]\n",
        "print(max_age)"
      ]
    },
    {
      "cell_type": "markdown",
      "metadata": {
        "id": "f_kRatQExzNv"
      },
      "source": [
        "**8. Среди кого больше доля зарабатывающих много (>50K): среди женатых или холостых мужчин (признак *marital-status*)? Женатыми считаем тех, у кого *marital-status* начинается с *Married* (Married-civ-spouse, Married-spouse-absent или Married-AF-spouse), остальных считаем холостыми.**"
      ]
    },
    {
      "cell_type": "code",
      "execution_count": 20,
      "metadata": {
        "id": "fw6MfEZxxzNv",
        "outputId": "868665ab-75a9-41a1-d25f-31e321b80c84",
        "colab": {
          "base_uri": "https://localhost:8080/"
        }
      },
      "outputs": [
        {
          "output_type": "stream",
          "name": "stdout",
          "text": [
            "Not-Married     8.45%\n",
            "Married        44.05%\n",
            "Name: salary, dtype: object\n"
          ]
        }
      ],
      "source": [
        "men = data[data[\"sex\"] == \"Male\"].copy()\n",
        "men[\"Married\"] = men[\"marital-status\"].str.startswith(\"Married\")\n",
        "men_share = men.groupby(\"Married\")[\"salary\"].apply(lambda x: (x == \">50K\").mean())\n",
        "men_share.index = [\"Not-Married\", \"Married\"]\n",
        "percent_share = (men_share * 100).round(2).astype(str) + \"%\"\n",
        "print(percent_share)"
      ]
    },
    {
      "cell_type": "markdown",
      "metadata": {
        "id": "E-KCEacoxzNv"
      },
      "source": [
        "**9. Какое максимальное число часов человек работает в неделю (признак *hours-per-week*)? Сколько людей работают такое количество часов и каков среди них процент зарабатывающих много?**"
      ]
    },
    {
      "cell_type": "code",
      "execution_count": 30,
      "metadata": {
        "id": "IPneiVdLxzNv",
        "outputId": "be889746-8e62-4088-d4f7-c20685227e80",
        "colab": {
          "base_uri": "https://localhost:8080/"
        }
      },
      "outputs": [
        {
          "output_type": "stream",
          "name": "stdout",
          "text": [
            "99\n",
            "85\n",
            "29.41%\n"
          ]
        }
      ],
      "source": [
        "max_hours = data[\"hours-per-week\"].max()\n",
        "print(max_hours)\n",
        "workers = data[data[\"hours-per-week\"] == max_hours]\n",
        "number_of_workers = len(workers)\n",
        "print(number_of_workers)\n",
        "workers_share = (workers[\"salary\"] == \">50K\").mean() * 100\n",
        "print(f\"{workers_share:.2f}%\")"
      ]
    },
    {
      "cell_type": "markdown",
      "metadata": {
        "id": "ewa34QCbxzNv"
      },
      "source": [
        "**10. Посчитайте среднее время работы (*hours-per-week*) зарабатывающих мало и много (*salary*) для каждой страны (*native-country*).**"
      ]
    },
    {
      "cell_type": "code",
      "execution_count": 34,
      "metadata": {
        "scrolled": true,
        "id": "zJ33qTjsxzNv",
        "outputId": "c99f671c-61cd-4df6-f0a9-30d09d3c1f1e",
        "colab": {
          "base_uri": "https://localhost:8080/"
        }
      },
      "outputs": [
        {
          "output_type": "stream",
          "name": "stdout",
          "text": [
            "salary                   >50K\n",
            "native-country               \n",
            "?                   45.547945\n",
            "Cambodia            40.000000\n",
            "Canada              45.641026\n",
            "China               38.900000\n",
            "Columbia            50.000000\n",
            "Cuba                42.440000\n",
            "Dominican-Republic  47.000000\n",
            "Ecuador             48.750000\n",
            "El-Salvador         45.000000\n",
            "England             44.533333\n",
            "France              50.750000\n",
            "Germany             44.977273\n",
            "Greece              50.625000\n",
            "Guatemala           36.666667\n",
            "Haiti               42.750000\n",
            "Honduras            60.000000\n",
            "Hong                45.000000\n",
            "Hungary             50.000000\n",
            "India               46.475000\n",
            "Iran                47.500000\n",
            "Ireland             48.000000\n",
            "Italy               45.400000\n",
            "Jamaica             41.100000\n",
            "Japan               47.958333\n",
            "Laos                40.000000\n",
            "Mexico              46.575758\n",
            "Nicaragua           37.500000\n",
            "Peru                40.000000\n",
            "Philippines         43.032787\n",
            "Poland              39.000000\n",
            "Portugal            41.500000\n",
            "Puerto-Rico         39.416667\n",
            "Scotland            46.666667\n",
            "South               51.437500\n",
            "Taiwan              46.800000\n",
            "Thailand            58.333333\n",
            "Trinadad&Tobago     40.000000\n",
            "United-States       45.505369\n",
            "Vietnam             39.200000\n",
            "Yugoslavia          49.500000\n",
            "native-country\n",
            "?                             40.164760\n",
            "Cambodia                      41.416667\n",
            "Canada                        37.914634\n",
            "China                         37.381818\n",
            "Columbia                      38.684211\n",
            "Cuba                          37.985714\n",
            "Dominican-Republic            42.338235\n",
            "Ecuador                       38.041667\n",
            "El-Salvador                   36.030928\n",
            "England                       40.483333\n",
            "France                        41.058824\n",
            "Germany                       39.139785\n",
            "Greece                        41.809524\n",
            "Guatemala                     39.360656\n",
            "Haiti                         36.325000\n",
            "Holand-Netherlands            40.000000\n",
            "Honduras                      34.333333\n",
            "Hong                          39.142857\n",
            "Hungary                       31.300000\n",
            "India                         38.233333\n",
            "Iran                          41.440000\n",
            "Ireland                       40.947368\n",
            "Italy                         39.625000\n",
            "Jamaica                       38.239437\n",
            "Japan                         41.000000\n",
            "Laos                          40.375000\n",
            "Mexico                        40.003279\n",
            "Nicaragua                     36.093750\n",
            "Outlying-US(Guam-USVI-etc)    41.857143\n",
            "Peru                          35.068966\n",
            "Philippines                   38.065693\n",
            "Poland                        38.166667\n",
            "Portugal                      41.939394\n",
            "Puerto-Rico                   38.470588\n",
            "Scotland                      39.444444\n",
            "South                         40.156250\n",
            "Taiwan                        33.774194\n",
            "Thailand                      42.866667\n",
            "Trinadad&Tobago               37.058824\n",
            "United-States                 38.799127\n",
            "Vietnam                       37.193548\n",
            "Yugoslavia                    41.600000\n",
            "Name: hours-per-week, dtype: float64\n"
          ]
        }
      ],
      "source": [
        "more_salary = data[data[\"salary\"] == \">50K\"]\n",
        "less_salary = data[data[\"salary\"] == \"<=50K\"]\n",
        "avg_more_salary = more_salary.groupby([\"native-country\", \"salary\"])[\"hours-per-week\"].mean().unstack()\n",
        "print(avg_more_salary)\n",
        "avg_less_salary = less_salary.groupby(\"native-country\")[\"hours-per-week\"].mean()\n",
        "print(avg_less_salary)"
      ]
    },
    {
      "cell_type": "code",
      "source": [
        "avg_hours = data.groupby([\"native-country\", \"salary\"])[\"hours-per-week\"].mean().unstack()\n",
        "avg_hours.columns = [\"<=50K\", \">50K\"]\n",
        "\n",
        "print(avg_hours)"
      ],
      "metadata": {
        "id": "Nk8b7Z6U1Tdd",
        "outputId": "ba4186da-c4fc-4d10-deac-f5b46ce2669b",
        "colab": {
          "base_uri": "https://localhost:8080/"
        }
      },
      "execution_count": 36,
      "outputs": [
        {
          "output_type": "stream",
          "name": "stdout",
          "text": [
            "                                <=50K       >50K\n",
            "native-country                                  \n",
            "?                           40.164760  45.547945\n",
            "Cambodia                    41.416667  40.000000\n",
            "Canada                      37.914634  45.641026\n",
            "China                       37.381818  38.900000\n",
            "Columbia                    38.684211  50.000000\n",
            "Cuba                        37.985714  42.440000\n",
            "Dominican-Republic          42.338235  47.000000\n",
            "Ecuador                     38.041667  48.750000\n",
            "El-Salvador                 36.030928  45.000000\n",
            "England                     40.483333  44.533333\n",
            "France                      41.058824  50.750000\n",
            "Germany                     39.139785  44.977273\n",
            "Greece                      41.809524  50.625000\n",
            "Guatemala                   39.360656  36.666667\n",
            "Haiti                       36.325000  42.750000\n",
            "Holand-Netherlands          40.000000        NaN\n",
            "Honduras                    34.333333  60.000000\n",
            "Hong                        39.142857  45.000000\n",
            "Hungary                     31.300000  50.000000\n",
            "India                       38.233333  46.475000\n",
            "Iran                        41.440000  47.500000\n",
            "Ireland                     40.947368  48.000000\n",
            "Italy                       39.625000  45.400000\n",
            "Jamaica                     38.239437  41.100000\n",
            "Japan                       41.000000  47.958333\n",
            "Laos                        40.375000  40.000000\n",
            "Mexico                      40.003279  46.575758\n",
            "Nicaragua                   36.093750  37.500000\n",
            "Outlying-US(Guam-USVI-etc)  41.857143        NaN\n",
            "Peru                        35.068966  40.000000\n",
            "Philippines                 38.065693  43.032787\n",
            "Poland                      38.166667  39.000000\n",
            "Portugal                    41.939394  41.500000\n",
            "Puerto-Rico                 38.470588  39.416667\n",
            "Scotland                    39.444444  46.666667\n",
            "South                       40.156250  51.437500\n",
            "Taiwan                      33.774194  46.800000\n",
            "Thailand                    42.866667  58.333333\n",
            "Trinadad&Tobago             37.058824  40.000000\n",
            "United-States               38.799127  45.505369\n",
            "Vietnam                     37.193548  39.200000\n",
            "Yugoslavia                  41.600000  49.500000\n"
          ]
        }
      ]
    },
    {
      "cell_type": "markdown",
      "metadata": {
        "id": "qXf04CRKxzNv"
      },
      "source": [
        "**11.Сгруппируйте людей по возрастным группам *young*, *adult*, *retiree*, где:**\n",
        "* *young* соответствует 16-35 лет\n",
        "* *adult* - 35-70 лет\n",
        "* *retiree* - 70-100 лет\n",
        "\n",
        "**Проставьте название соответсвтуещей группы для каждого человека в новой колонке AgeGroup**"
      ]
    },
    {
      "cell_type": "code",
      "execution_count": 37,
      "metadata": {
        "scrolled": true,
        "id": "pjtVdDsjxzNv",
        "outputId": "9ff8bcbe-9a51-49b4-b539-c0cec8c544ef",
        "colab": {
          "base_uri": "https://localhost:8080/"
        }
      },
      "outputs": [
        {
          "output_type": "stream",
          "name": "stdout",
          "text": [
            "   age age-group\n",
            "0   39     adult\n",
            "1   50     adult\n",
            "2   38     adult\n",
            "3   53     adult\n",
            "4   28     young\n",
            "5   37     adult\n",
            "6   49     adult\n",
            "7   52     adult\n",
            "8   31     young\n",
            "9   42     adult\n"
          ]
        }
      ],
      "source": [
        "ages = [16, 35, 70, 100]\n",
        "labels = [\"young\", \"adult\", \"retiree\"]\n",
        "data[\"age-group\"] = pd.cut(data[\"age\"], bins=ages, labels=labels, right=False)\n",
        "print(data[[\"age\", \"age-group\"]].head(10))"
      ]
    },
    {
      "cell_type": "markdown",
      "metadata": {
        "id": "E1uajtQoxzNv"
      },
      "source": [
        "**12-13. Определите количество зарабатывающих >50K в каждой из возрастных групп (колонка AgeGroup), а также выведите название возрастной группы, в которой чаще зарабатывают больше 50К (>50K)**"
      ]
    },
    {
      "cell_type": "code",
      "execution_count": 38,
      "metadata": {
        "id": "-XvMbul4xzNw",
        "outputId": "aa686ee3-9020-47a7-b88f-71469b83e520",
        "colab": {
          "base_uri": "https://localhost:8080/"
        }
      },
      "outputs": [
        {
          "output_type": "stream",
          "name": "stdout",
          "text": [
            "age-group\n",
            "young      1488\n",
            "adult      6240\n",
            "retiree     113\n",
            "dtype: int64\n",
            "adult\n"
          ]
        }
      ],
      "source": [
        "age_group_number = data[data[\"salary\"] == \">50K\"].groupby(\"age-group\", observed=False).size()\n",
        "print(age_group_number)\n",
        "most_common_group = age_group_number.idxmax()\n",
        "print(most_common_group)"
      ]
    },
    {
      "cell_type": "markdown",
      "metadata": {
        "id": "Cf9L216ZxzNw"
      },
      "source": [
        "**14. Сгруппируйте людей по типу занятости (колонка occupation) и определите количество людей в каждой группе. После чего напишите функциюю фильтрации filter_func, которая будет возвращать только те группы, в которых средний возраст (колонка age) не больше 40 и в которых все работники отрабатывают более 5 часов в неделю (колонка hours-per-week)**"
      ]
    },
    {
      "cell_type": "code",
      "execution_count": 41,
      "metadata": {
        "id": "PTfh-ZEfxzNw",
        "outputId": "c0efea4d-6513-4fd3-ebee-ad9b7e6544ed",
        "colab": {
          "base_uri": "https://localhost:8080/"
        }
      },
      "outputs": [
        {
          "output_type": "stream",
          "name": "stdout",
          "text": [
            "occupation\n",
            "?                    1843\n",
            "Adm-clerical         3770\n",
            "Armed-Forces            9\n",
            "Craft-repair         4099\n",
            "Exec-managerial      4066\n",
            "Farming-fishing       994\n",
            "Handlers-cleaners    1370\n",
            "Machine-op-inspct    2002\n",
            "Other-service        3295\n",
            "Priv-house-serv       149\n",
            "Prof-specialty       4140\n",
            "Protective-serv       649\n",
            "Sales                3650\n",
            "Tech-support          928\n",
            "Transport-moving     1597\n",
            "dtype: int64\n",
            "['Armed-Forces']\n"
          ]
        }
      ],
      "source": [
        "occupation_counts = data.groupby(\"occupation\").size()\n",
        "print(occupation_counts)\n",
        "\n",
        "def filter_func(group):\n",
        "  return group[\"age\"].mean() <= 40 and (group[\"hours-per-week\"] > 5).all()\n",
        "\n",
        "groups = data.groupby(\"occupation\")\n",
        "filtered_groups = groups.filter(filter_func)\n",
        "print(filtered_groups[\"occupation\"].unique())"
      ]
    }
  ],
  "metadata": {
    "anaconda-cloud": {},
    "kernelspec": {
      "display_name": "Python 3 (ipykernel)",
      "language": "python",
      "name": "python3"
    },
    "language_info": {
      "codemirror_mode": {
        "name": "ipython",
        "version": 3
      },
      "file_extension": ".py",
      "mimetype": "text/x-python",
      "name": "python",
      "nbconvert_exporter": "python",
      "pygments_lexer": "ipython3",
      "version": "3.8.10"
    },
    "colab": {
      "provenance": []
    }
  },
  "nbformat": 4,
  "nbformat_minor": 0
}